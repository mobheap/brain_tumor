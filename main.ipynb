{
 "cells": [
  {
   "cell_type": "markdown",
   "metadata": {},
   "source": [
    "Importing the libraries"
   ]
  },
  {
   "cell_type": "code",
   "execution_count": 1,
   "metadata": {},
   "outputs": [],
   "source": [
    "import numpy as np\n",
    "import pandas as pd\n",
    "import cv2\n",
    "import os"
   ]
  },
  {
   "cell_type": "markdown",
   "metadata": {},
   "source": [
    "Checking image colorspace"
   ]
  },
  {
   "cell_type": "code",
   "execution_count": 2,
   "metadata": {},
   "outputs": [
    {
     "name": "stdout",
     "output_type": "stream",
     "text": [
      "The image is in BGR colorspace.\n"
     ]
    }
   ],
   "source": [
    "image_path = os.path.join('.', 'dataset', 'yes', 'Te-gl_0010.jpg')\n",
    "img = cv2.imread(image_path)\n",
    "\n",
    "if len(img.shape) == 2:\n",
    "    print(\"The image is in grayscale.\")\n",
    "elif len(img.shape) == 3:\n",
    "    if img.shape[2] == 3:\n",
    "        print(\"The image is in BGR colorspace.\")\n",
    "    elif img.shape[2] == 4:\n",
    "        print(\"The image is in BGRA colorspace.\")\n",
    "else:\n",
    "    print(\"Unknown colorspace.\")"
   ]
  },
  {
   "cell_type": "markdown",
   "metadata": {},
   "source": [
    "Loading and resizing the data"
   ]
  },
  {
   "cell_type": "code",
   "execution_count": 3,
   "metadata": {},
   "outputs": [],
   "source": [
    "X = []\n",
    "y = []\n",
    "\n",
    "yes_path = os.path.join('.', 'dataset', 'yes')\n",
    "no_path = os.path.join('.', 'dataset', 'no')\n",
    "\n",
    "target_size = (128, 128)\n",
    "\n",
    "for file in os.listdir(yes_path):\n",
    "    file_path = os.path.join(yes_path, file)\n",
    "    img = cv2.imread(file_path)\n",
    "    if img is not None:  # Check if image is read successfully\n",
    "        img = cv2.cvtColor(img, cv2.COLOR_BGR2GRAY)\n",
    "        img = cv2.resize(img, target_size)\n",
    "        X.append(img)\n",
    "        y.append(1)\n",
    "\n",
    "for file in os.listdir(no_path):\n",
    "    file_path = os.path.join(no_path, file)\n",
    "    img = cv2.imread(file_path)\n",
    "    if img is not None:  # Check if image is read successfully\n",
    "        img = cv2.cvtColor(img, cv2.COLOR_BGR2GRAY)\n",
    "        img = cv2.resize(img, target_size)\n",
    "        X.append(img)\n",
    "        y.append(0)\n",
    "\n",
    "X = np.array(X)\n",
    "y = np.array(y)"
   ]
  },
  {
   "cell_type": "markdown",
   "metadata": {},
   "source": [
    "Check the shapes of the arrays"
   ]
  },
  {
   "cell_type": "code",
   "execution_count": 4,
   "metadata": {},
   "outputs": [
    {
     "name": "stdout",
     "output_type": "stream",
     "text": [
      "X shape: (1574, 128, 128)\n",
      "y shape: (1574,)\n"
     ]
    }
   ],
   "source": [
    "print('X shape:', X.shape)\n",
    "print('y shape:', y.shape)"
   ]
  },
  {
   "cell_type": "markdown",
   "metadata": {},
   "source": [
    "Splitting into training and validation data"
   ]
  },
  {
   "cell_type": "code",
   "execution_count": 5,
   "metadata": {},
   "outputs": [],
   "source": [
    "from sklearn.model_selection import train_test_split\n",
    "train_images, test_images, train_labels, test_labels = train_test_split(X, y, test_size=0.2)"
   ]
  },
  {
   "cell_type": "markdown",
   "metadata": {},
   "source": [
    "Building the model"
   ]
  },
  {
   "cell_type": "code",
   "execution_count": 6,
   "metadata": {},
   "outputs": [
    {
     "name": "stdout",
     "output_type": "stream",
     "text": [
      "WARNING:tensorflow:From c:\\Users\\adm1in\\AppData\\Local\\Programs\\Python\\Python311\\Lib\\site-packages\\keras\\src\\losses.py:2976: The name tf.losses.sparse_softmax_cross_entropy is deprecated. Please use tf.compat.v1.losses.sparse_softmax_cross_entropy instead.\n",
      "\n",
      "WARNING:tensorflow:From c:\\Users\\adm1in\\AppData\\Local\\Programs\\Python\\Python311\\Lib\\site-packages\\keras\\src\\backend.py:873: The name tf.get_default_graph is deprecated. Please use tf.compat.v1.get_default_graph instead.\n",
      "\n",
      "WARNING:tensorflow:From c:\\Users\\adm1in\\AppData\\Local\\Programs\\Python\\Python311\\Lib\\site-packages\\keras\\src\\layers\\pooling\\max_pooling2d.py:161: The name tf.nn.max_pool is deprecated. Please use tf.nn.max_pool2d instead.\n",
      "\n",
      "WARNING:tensorflow:From c:\\Users\\adm1in\\AppData\\Local\\Programs\\Python\\Python311\\Lib\\site-packages\\keras\\src\\optimizers\\__init__.py:309: The name tf.train.Optimizer is deprecated. Please use tf.compat.v1.train.Optimizer instead.\n",
      "\n"
     ]
    }
   ],
   "source": [
    "from keras import layers, models\n",
    "\n",
    "input_shape = (128,128,1)\n",
    "\n",
    "model = models.Sequential([\n",
    "    layers.Conv2D(32, (3, 3), activation='relu', input_shape=input_shape),\n",
    "    layers.MaxPooling2D((2, 2)),\n",
    "    layers.Conv2D(64, (3, 3), activation='relu'),\n",
    "    layers.MaxPooling2D((2, 2)),\n",
    "    layers.Conv2D(64, (3, 3), activation='relu'),\n",
    "    layers.Flatten(),\n",
    "    layers.Dense(64, activation='relu'),\n",
    "    layers.Dense(1, activation='sigmoid')\n",
    "])\n",
    "\n",
    "model.compile(optimizer='adam',\n",
    "              loss='binary_crossentropy',\n",
    "              metrics=['accuracy'])"
   ]
  },
  {
   "cell_type": "markdown",
   "metadata": {},
   "source": [
    "Training the model"
   ]
  },
  {
   "cell_type": "code",
   "execution_count": 7,
   "metadata": {},
   "outputs": [
    {
     "name": "stdout",
     "output_type": "stream",
     "text": [
      "Epoch 1/20\n",
      "WARNING:tensorflow:From c:\\Users\\adm1in\\AppData\\Local\\Programs\\Python\\Python311\\Lib\\site-packages\\keras\\src\\utils\\tf_utils.py:492: The name tf.ragged.RaggedTensorValue is deprecated. Please use tf.compat.v1.ragged.RaggedTensorValue instead.\n",
      "\n",
      "WARNING:tensorflow:From c:\\Users\\adm1in\\AppData\\Local\\Programs\\Python\\Python311\\Lib\\site-packages\\keras\\src\\engine\\base_layer_utils.py:384: The name tf.executing_eagerly_outside_functions is deprecated. Please use tf.compat.v1.executing_eagerly_outside_functions instead.\n",
      "\n",
      "40/40 [==============================] - 10s 207ms/step - loss: 8.6965 - accuracy: 0.6593 - val_loss: 0.5520 - val_accuracy: 0.7397\n",
      "Epoch 2/20\n",
      "40/40 [==============================] - 9s 219ms/step - loss: 0.3849 - accuracy: 0.8276 - val_loss: 0.3782 - val_accuracy: 0.8476\n",
      "Epoch 3/20\n",
      "40/40 [==============================] - 9s 212ms/step - loss: 0.2685 - accuracy: 0.8928 - val_loss: 0.3124 - val_accuracy: 0.8730\n",
      "Epoch 4/20\n",
      "40/40 [==============================] - 8s 192ms/step - loss: 0.1914 - accuracy: 0.9206 - val_loss: 0.2928 - val_accuracy: 0.8794\n",
      "Epoch 5/20\n",
      "40/40 [==============================] - 8s 191ms/step - loss: 0.1218 - accuracy: 0.9587 - val_loss: 0.3918 - val_accuracy: 0.8984\n",
      "Epoch 6/20\n",
      "40/40 [==============================] - 8s 191ms/step - loss: 0.0814 - accuracy: 0.9754 - val_loss: 0.3505 - val_accuracy: 0.9016\n",
      "Epoch 7/20\n",
      "40/40 [==============================] - 8s 211ms/step - loss: 0.0459 - accuracy: 0.9865 - val_loss: 0.2733 - val_accuracy: 0.9016\n",
      "Epoch 8/20\n",
      "40/40 [==============================] - 8s 212ms/step - loss: 0.0267 - accuracy: 0.9921 - val_loss: 0.4810 - val_accuracy: 0.9143\n",
      "Epoch 9/20\n",
      "40/40 [==============================] - 9s 215ms/step - loss: 0.0156 - accuracy: 0.9976 - val_loss: 0.4444 - val_accuracy: 0.9175\n",
      "Epoch 10/20\n",
      "40/40 [==============================] - 8s 212ms/step - loss: 0.0115 - accuracy: 0.9984 - val_loss: 0.3497 - val_accuracy: 0.9016\n",
      "Epoch 11/20\n",
      "40/40 [==============================] - 10s 241ms/step - loss: 0.0084 - accuracy: 0.9976 - val_loss: 0.3774 - val_accuracy: 0.9016\n",
      "Epoch 12/20\n",
      "40/40 [==============================] - 9s 230ms/step - loss: 0.0055 - accuracy: 0.9992 - val_loss: 0.4441 - val_accuracy: 0.9175\n",
      "Epoch 13/20\n",
      "40/40 [==============================] - 10s 245ms/step - loss: 0.0040 - accuracy: 1.0000 - val_loss: 0.4554 - val_accuracy: 0.9238\n",
      "Epoch 14/20\n",
      "40/40 [==============================] - 11s 287ms/step - loss: 0.0026 - accuracy: 0.9992 - val_loss: 0.5070 - val_accuracy: 0.9206\n",
      "Epoch 15/20\n",
      "40/40 [==============================] - 12s 298ms/step - loss: 0.0027 - accuracy: 0.9992 - val_loss: 0.4579 - val_accuracy: 0.9206\n",
      "Epoch 16/20\n",
      "40/40 [==============================] - 11s 284ms/step - loss: 0.0024 - accuracy: 1.0000 - val_loss: 0.5979 - val_accuracy: 0.9206\n",
      "Epoch 17/20\n",
      "40/40 [==============================] - 10s 246ms/step - loss: 0.0020 - accuracy: 1.0000 - val_loss: 0.6515 - val_accuracy: 0.9143\n",
      "Epoch 18/20\n",
      "40/40 [==============================] - 10s 246ms/step - loss: 0.0019 - accuracy: 1.0000 - val_loss: 0.6309 - val_accuracy: 0.9175\n",
      "Epoch 19/20\n",
      "40/40 [==============================] - 10s 255ms/step - loss: 0.0018 - accuracy: 1.0000 - val_loss: 0.6514 - val_accuracy: 0.9175\n",
      "Epoch 20/20\n",
      "40/40 [==============================] - 11s 264ms/step - loss: 0.0018 - accuracy: 1.0000 - val_loss: 0.6754 - val_accuracy: 0.9175\n"
     ]
    }
   ],
   "source": [
    "history = model.fit(train_images, train_labels, epochs=20, \n",
    "                    validation_data=(test_images, test_labels))"
   ]
  },
  {
   "cell_type": "markdown",
   "metadata": {},
   "source": [
    "Evaluating the model"
   ]
  },
  {
   "cell_type": "code",
   "execution_count": 8,
   "metadata": {},
   "outputs": [
    {
     "name": "stdout",
     "output_type": "stream",
     "text": [
      "10/10 - 1s - loss: 0.6754 - accuracy: 0.9175 - 642ms/epoch - 64ms/step\n",
      "\n",
      "Test accuracy: 0.9174603223800659\n"
     ]
    }
   ],
   "source": [
    "test_loss, test_acc = model.evaluate(test_images, test_labels, verbose=2)\n",
    "print('\\nTest accuracy:', test_acc)"
   ]
  },
  {
   "cell_type": "markdown",
   "metadata": {},
   "source": [
    "Plotting the training"
   ]
  },
  {
   "cell_type": "code",
   "execution_count": 9,
   "metadata": {},
   "outputs": [
    {
     "data": {
      "image/png": "[encoded data removed]",
      "text/plain": [
       "<Figure size 640x480 with 1 Axes>"
      ]
     },
     "metadata": {},
     "output_type": "display_data"
    }
   ],
   "source": [
    "import matplotlib.pyplot as plt\n",
    "\n",
    "plt.plot(history.history['accuracy'], label='accuracy')\n",
    "plt.plot(history.history['val_accuracy'], label='val_accuracy')\n",
    "plt.xlabel('Epoch')\n",
    "plt.ylabel('Accuracy')\n",
    "plt.ylim([0, 1])\n",
    "plt.legend(loc='lower right')\n",
    "plt.show()"
   ]
  }
 ],
 "metadata": {
  "kernelspec": {
   "display_name": "Python 3",
   "language": "python",
   "name": "python3"
  },
  "language_info": {
   "codemirror_mode": {
    "name": "ipython",
    "version": 3
   },
   "file_extension": ".py",
   "mimetype": "text/x-python",
   "name": "python",
   "nbconvert_exporter": "python",
   "pygments_lexer": "ipython3",
   "version": "3.11.8"
  }
 },
 "nbformat": 4,
 "nbformat_minor": 2
}
